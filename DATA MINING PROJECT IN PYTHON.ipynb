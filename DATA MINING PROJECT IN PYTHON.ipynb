{
 "cells": [
  {
   "cell_type": "markdown",
   "metadata": {},
   "source": [
    "<a id=\"top\"></a> <br>\n",
    "# <div style=\"text-align: center\"> Data mining Project in Python.</div>\n",
    "\n",
    "Welcome to my data mining project in python.\n",
    "\n",
    "## Contents.\n",
    "\n",
    "1. [About this project](#1)\n",
    "1. [Business Value](#2)\n",
    "1. [Importing libraries(tools of trade)](#3)\n",
    "1. [Data Ingestion](#4)\n",
    "1. [Data Exploration](#5)\n",
    "    1. [Variable and observations - Shape](#51)\n",
    "    1. [Sample look at the data](#52)\n",
    "    1. [Missing Values](#53)\n",
    "1. [Data Preprocessing](#6)\n",
    "    1. [Registration data - Patient codes](#61)\n",
    "    1. [Registration data-Missing Dates of Birth](#62)\n",
    "    1. [Patient Paid Visit Data-Patient codes](#63)\n",
    "    1. [Patient Paid Visit Data-Visit Date.](#64)\n",
    "    1. [Paid Visit Data-Dropping unwanted variables](#65)\n",
    "1. [Merging data](#7)\n",
    "    1. [Merged data-age calculation](#71)\n",
    "    1. [Merged data - filltering out rows with nul vaues in Diagnosis column.](#72)\n",
    "    1. [Merged Data - filtering out typhoid and age](73)\n",
    "1. [The pivot table](#8) \n",
    "    1. [Visualizing the results](#81)\n",
    "    1. [Answering the question.](#82)\n",
    "    1. [Conclusion](#83)\n",
    "    \n",
    " <a id=\"1\"></a> <br> \n",
    " \n",
    "## About this project.\n",
    "\n",
    "This project was innitialy posted by an organization as an initial test on the applicants abilities in data analysis and extraction.There was no specified programm to handle the project so i have decided to solve the problem here with python.\n",
    "\n",
    " <a id=\"2\"></a> <br>\n",
    " \n",
    "## Busines Value.\n",
    "\n",
    "![title](typhoid.jpg)\n",
    "\n",
    "Lets start with the business value of this project and see what will be end product.\n",
    "\n",
    "This organization collects comprehensive medical data on their patients, and is sometimes required to report certain aggregate data to various stakeholders. One such stakeholder is the Ministry of Health (MoH).\n",
    "\n",
    "The MoH is dispensing free medication to combat typhoid in children. The MoH wishes to supply only those medical centres that have a higher incidence of typhoid among their patients. Specifically, the MoH is willing to provide free typhoid medication to clinics that diagnose an average of 15 cases of typhoid per month in children under 5 years of age.\n",
    "\n",
    "The “MoH reporting” file contains data on patient visits to this organization's Medical Centres from **January to September 2018**. The applicant is required to callculatethe number of typhoid cases per month for each medical centre, as well as the average number of cases for the full time period covered. \n",
    "\n",
    "Data is supplied in two worksheets namely (“PatientPaidVisit” and “RegistrationData”) to populate a table with the required information.\n",
    "\n",
    "Based on the applicat analysis, he or she should determine whether each medical centre will be eligible for the free medicine from the MoH. \n",
    "\n",
    "The project looks simple from the explanation but there is a catch way in between:-data is messy!.\n",
    "\n",
    "To tackle the project some packages will be handy in python.\n",
    " <a id=\"3\"></a> <br>\n",
    "## Importing libraries(tools of trade).\n",
    "\n",
    "[go to top](#top)"
   ]
  },
  {
   "cell_type": "code",
   "execution_count": 1,
   "metadata": {},
   "outputs": [],
   "source": [
    "import pandas as pd\n",
    "import numpy as np\n",
    "import matplotlib.pyplot as plt\n",
    "from datetime import datetime\n",
    "import seaborn as sns\n",
    "%matplotlib inline"
   ]
  },
  {
   "cell_type": "markdown",
   "metadata": {},
   "source": [
    "The code above imports all the modules i will need in this project to manipulate the data.\n",
    " <a id=\"4\"></a> <br>\n",
    "## Data Ingestion\n",
    "\n",
    "The data is provided in and an excel format.I will use pandas for this import into pythons working session.It is important that the data is given using a link to google docs available here.\n",
    "https://docs.google.com/spreadsheets/d/1fJEV5ISyD1UisqmRSmR71wIXzkUmX_Mwco9tTn_AS_I/edit?usp=sharing.\n",
    "\n",
    "In this project I downoaded the data in prior into my hard disk so i have not icluded data download codes here."
   ]
  },
  {
   "cell_type": "code",
   "execution_count": 3,
   "metadata": {},
   "outputs": [],
   "source": [
    "PatientPaidVisit = pd.read_excel('/Users/admin/Downloads/BI.xlsx',sheet_name='PatientPaidVisit')\n",
    "RegistrationData = pd.read_excel('/Users/admin/Downloads/BI.xlsx',sheet_name='RegistrationData')"
   ]
  },
  {
   "cell_type": "markdown",
   "metadata": {},
   "source": [
    "The code above loads the worksheets containing PatientPaidVisit and Registration data respectively into the woking environment.\n",
    " <a id=\"5\"></a> <br>\n",
    "## Data Exploration.\n",
    "\n",
    "After ingesting this data its important to take some time and inspect the data structure.\n",
    " <a id=\"51\"></a> <br>\n",
    "### Variables and observations(Shape)\n",
    "\n",
    "[go to top](#top)"
   ]
  },
  {
   "cell_type": "code",
   "execution_count": 4,
   "metadata": {},
   "outputs": [
    {
     "name": "stdout",
     "output_type": "stream",
     "text": [
      "<class 'pandas.core.frame.DataFrame'>\n",
      "RangeIndex: 59091 entries, 0 to 59090\n",
      "Data columns (total 12 columns):\n",
      "Visit date         59091 non-null object\n",
      "Payment Type       59091 non-null object\n",
      "Patient Code       59091 non-null object\n",
      "Patient Name       0 non-null float64\n",
      "Visit Code         59091 non-null object\n",
      "Gender             59091 non-null object\n",
      "Patient Address    0 non-null float64\n",
      "Diagnosis          41742 non-null object\n",
      "Phone no.          0 non-null float64\n",
      "New/Repeat         59091 non-null object\n",
      "Total invoice      59091 non-null float64\n",
      "Visit location     59091 non-null object\n",
      "dtypes: float64(4), object(8)\n",
      "memory usage: 5.4+ MB\n"
     ]
    }
   ],
   "source": [
    "PatientPaidVisit.info()"
   ]
  },
  {
   "cell_type": "code",
   "execution_count": 5,
   "metadata": {},
   "outputs": [
    {
     "name": "stdout",
     "output_type": "stream",
     "text": [
      "<class 'pandas.core.frame.DataFrame'>\n",
      "RangeIndex: 84364 entries, 0 to 84363\n",
      "Data columns (total 2 columns):\n",
      "Patient Code     84364 non-null object\n",
      "Date of Birth    79445 non-null datetime64[ns]\n",
      "dtypes: datetime64[ns](1), object(1)\n",
      "memory usage: 1.3+ MB\n"
     ]
    }
   ],
   "source": [
    "RegistrationData.info()"
   ]
  },
  {
   "cell_type": "markdown",
   "metadata": {},
   "source": [
    "We can see that the paid visit has 59091 observations and 12 variables while the registration data has 84364 observations and 2 variavles.\n",
    "\n",
    "Also ,its imporrtant to note that the visit date in the patient paid visit sheet is not stored as a datetime object.This is where we will start working.\n",
    " <a id=\"52\"></a> <br>\n",
    "## Sample look at the data.\n",
    "\n",
    "\n",
    "[go to top](#top)"
   ]
  },
  {
   "cell_type": "code",
   "execution_count": 6,
   "metadata": {},
   "outputs": [
    {
     "data": {
      "text/html": [
       "<div>\n",
       "<style scoped>\n",
       "    .dataframe tbody tr th:only-of-type {\n",
       "        vertical-align: middle;\n",
       "    }\n",
       "\n",
       "    .dataframe tbody tr th {\n",
       "        vertical-align: top;\n",
       "    }\n",
       "\n",
       "    .dataframe thead th {\n",
       "        text-align: right;\n",
       "    }\n",
       "</style>\n",
       "<table border=\"1\" class=\"dataframe\">\n",
       "  <thead>\n",
       "    <tr style=\"text-align: right;\">\n",
       "      <th></th>\n",
       "      <th>Visit date</th>\n",
       "      <th>Payment Type</th>\n",
       "      <th>Patient Code</th>\n",
       "      <th>Patient Name</th>\n",
       "      <th>Visit Code</th>\n",
       "      <th>Gender</th>\n",
       "      <th>Patient Address</th>\n",
       "      <th>Diagnosis</th>\n",
       "      <th>Phone no.</th>\n",
       "      <th>New/Repeat</th>\n",
       "      <th>Total invoice</th>\n",
       "      <th>Visit location</th>\n",
       "    </tr>\n",
       "  </thead>\n",
       "  <tbody>\n",
       "    <tr>\n",
       "      <th>38761</th>\n",
       "      <td>16/07/2018</td>\n",
       "      <td>Cash</td>\n",
       "      <td>PAT807412018</td>\n",
       "      <td>NaN</td>\n",
       "      <td>V-103197</td>\n",
       "      <td>Female</td>\n",
       "      <td>NaN</td>\n",
       "      <td>NaN</td>\n",
       "      <td>NaN</td>\n",
       "      <td>New</td>\n",
       "      <td>650.0</td>\n",
       "      <td>Embakasi</td>\n",
       "    </tr>\n",
       "    <tr>\n",
       "      <th>39335</th>\n",
       "      <td>18/07/2018</td>\n",
       "      <td>Cash</td>\n",
       "      <td>PAT8106620181</td>\n",
       "      <td>NaN</td>\n",
       "      <td>V-104160</td>\n",
       "      <td>Male</td>\n",
       "      <td>NaN</td>\n",
       "      <td>Sorethroat</td>\n",
       "      <td>NaN</td>\n",
       "      <td>New</td>\n",
       "      <td>550.0</td>\n",
       "      <td>Kahawa West</td>\n",
       "    </tr>\n",
       "    <tr>\n",
       "      <th>21821</th>\n",
       "      <td>2018-10-02 00:00:00</td>\n",
       "      <td>Cash</td>\n",
       "      <td>PAT160422017</td>\n",
       "      <td>NaN</td>\n",
       "      <td>V-53388</td>\n",
       "      <td>Male</td>\n",
       "      <td>NaN</td>\n",
       "      <td>skin disease</td>\n",
       "      <td>NaN</td>\n",
       "      <td>Repeat</td>\n",
       "      <td>470.0</td>\n",
       "      <td>Githurai 45</td>\n",
       "    </tr>\n",
       "    <tr>\n",
       "      <th>49235</th>\n",
       "      <td>15/06/2018</td>\n",
       "      <td>Cash</td>\n",
       "      <td>PAT41692</td>\n",
       "      <td>NaN</td>\n",
       "      <td>V-92030</td>\n",
       "      <td>Male</td>\n",
       "      <td>NaN</td>\n",
       "      <td>NaN</td>\n",
       "      <td>NaN</td>\n",
       "      <td>Repeat</td>\n",
       "      <td>490.0</td>\n",
       "      <td>Embakasi</td>\n",
       "    </tr>\n",
       "    <tr>\n",
       "      <th>23819</th>\n",
       "      <td>18/02/2018</td>\n",
       "      <td>APA</td>\n",
       "      <td>PAT643972018</td>\n",
       "      <td>NaN</td>\n",
       "      <td>V-55735</td>\n",
       "      <td>Male</td>\n",
       "      <td>NaN</td>\n",
       "      <td>Septic tonsilitis</td>\n",
       "      <td>NaN</td>\n",
       "      <td>New</td>\n",
       "      <td>2580.0</td>\n",
       "      <td>Umoja</td>\n",
       "    </tr>\n",
       "  </tbody>\n",
       "</table>\n",
       "</div>"
      ],
      "text/plain": [
       "                Visit date Payment Type   Patient Code  Patient Name  \\\n",
       "38761           16/07/2018         Cash  PAT807412018            NaN   \n",
       "39335           18/07/2018         Cash  PAT8106620181           NaN   \n",
       "21821  2018-10-02 00:00:00         Cash   PAT160422017           NaN   \n",
       "49235           15/06/2018         Cash       PAT41692           NaN   \n",
       "23819           18/02/2018          APA   PAT643972018           NaN   \n",
       "\n",
       "      Visit Code  Gender  Patient Address           Diagnosis  Phone no.  \\\n",
       "38761   V-103197  Female              NaN                 NaN        NaN   \n",
       "39335   V-104160    Male              NaN          Sorethroat        NaN   \n",
       "21821    V-53388    Male              NaN        skin disease        NaN   \n",
       "49235    V-92030    Male              NaN                 NaN        NaN   \n",
       "23819    V-55735    Male              NaN   Septic tonsilitis        NaN   \n",
       "\n",
       "      New/Repeat  Total invoice Visit location  \n",
       "38761        New          650.0       Embakasi  \n",
       "39335        New          550.0    Kahawa West  \n",
       "21821     Repeat          470.0    Githurai 45  \n",
       "49235     Repeat          490.0       Embakasi  \n",
       "23819        New         2580.0          Umoja  "
      ]
     },
     "execution_count": 6,
     "metadata": {},
     "output_type": "execute_result"
    }
   ],
   "source": [
    "np.random.seed(3)\n",
    "PatientPaidVisit.sample(5)"
   ]
  },
  {
   "cell_type": "markdown",
   "metadata": {},
   "source": [
    "Just from the look of things we can spot a problem in the first column ,some dates are recorded as string literals.There are also missing values which some are understandable for anonymity and confidentiality prposes,common with medical data.\n",
    "\n",
    "I have set a random seed to make this step reproducible."
   ]
  },
  {
   "cell_type": "code",
   "execution_count": 7,
   "metadata": {},
   "outputs": [
    {
     "data": {
      "text/html": [
       "<div>\n",
       "<style scoped>\n",
       "    .dataframe tbody tr th:only-of-type {\n",
       "        vertical-align: middle;\n",
       "    }\n",
       "\n",
       "    .dataframe tbody tr th {\n",
       "        vertical-align: top;\n",
       "    }\n",
       "\n",
       "    .dataframe thead th {\n",
       "        text-align: right;\n",
       "    }\n",
       "</style>\n",
       "<table border=\"1\" class=\"dataframe\">\n",
       "  <thead>\n",
       "    <tr style=\"text-align: right;\">\n",
       "      <th></th>\n",
       "      <th>Patient Code</th>\n",
       "      <th>Date of Birth</th>\n",
       "    </tr>\n",
       "  </thead>\n",
       "  <tbody>\n",
       "    <tr>\n",
       "      <th>69699</th>\n",
       "      <td>PAT542722017</td>\n",
       "      <td>2014-12-31</td>\n",
       "    </tr>\n",
       "    <tr>\n",
       "      <th>34009</th>\n",
       "      <td>PAT514262017</td>\n",
       "      <td>2006-12-31</td>\n",
       "    </tr>\n",
       "    <tr>\n",
       "      <th>33027</th>\n",
       "      <td>PAT623872018</td>\n",
       "      <td>1994-12-31</td>\n",
       "    </tr>\n",
       "    <tr>\n",
       "      <th>69141</th>\n",
       "      <td>PAT724102018</td>\n",
       "      <td>1984-12-30</td>\n",
       "    </tr>\n",
       "    <tr>\n",
       "      <th>93</th>\n",
       "      <td>PAT690642018</td>\n",
       "      <td>1993-12-30</td>\n",
       "    </tr>\n",
       "    <tr>\n",
       "      <th>54695</th>\n",
       "      <td>PAT656182018</td>\n",
       "      <td>2002-12-31</td>\n",
       "    </tr>\n",
       "    <tr>\n",
       "      <th>75215</th>\n",
       "      <td>PAT901532018</td>\n",
       "      <td>2009-12-30</td>\n",
       "    </tr>\n",
       "    <tr>\n",
       "      <th>37743</th>\n",
       "      <td>PAT103122017</td>\n",
       "      <td>1990-12-31</td>\n",
       "    </tr>\n",
       "    <tr>\n",
       "      <th>37077</th>\n",
       "      <td>PAT801562018</td>\n",
       "      <td>NaT</td>\n",
       "    </tr>\n",
       "    <tr>\n",
       "      <th>23362</th>\n",
       "      <td>PAT156632017</td>\n",
       "      <td>2013-12-31</td>\n",
       "    </tr>\n",
       "  </tbody>\n",
       "</table>\n",
       "</div>"
      ],
      "text/plain": [
       "        Patient Code Date of Birth\n",
       "69699   PAT542722017    2014-12-31\n",
       "34009  PAT514262017     2006-12-31\n",
       "33027   PAT623872018    1994-12-31\n",
       "69141   PAT724102018    1984-12-30\n",
       "93      PAT690642018    1993-12-30\n",
       "54695   PAT656182018    2002-12-31\n",
       "75215   PAT901532018    2009-12-30\n",
       "37743   PAT103122017    1990-12-31\n",
       "37077   PAT801562018           NaT\n",
       "23362   PAT156632017    2013-12-31"
      ]
     },
     "execution_count": 7,
     "metadata": {},
     "output_type": "execute_result"
    }
   ],
   "source": [
    "np.random.seed(7)\n",
    "RegistrationData.sample(10)"
   ]
  },
  {
   "cell_type": "markdown",
   "metadata": {},
   "source": [
    "We can see there exists some missing data in the date of birth column.For this data sheet,it will be resonable to drop rows with no birth dates since there is no other way we can re construct the dates if they are missing.\n",
    "\n",
    "Bellow i am visualizing the missing values.\n",
    " <a id=\"53\"></a> <br>\n",
    "## Missing Values\n",
    "\n",
    "[go to top](#top)"
   ]
  },
  {
   "cell_type": "code",
   "execution_count": 8,
   "metadata": {},
   "outputs": [
    {
     "data": {
      "text/plain": [
       "Text(0.5, 1.0, 'Missing Values')"
      ]
     },
     "execution_count": 8,
     "metadata": {},
     "output_type": "execute_result"
    },
    {
     "data": {
      "image/png": "[encoded data removed]",
      "text/plain": [
       "<Figure size 432x288 with 1 Axes>"
      ]
     },
     "metadata": {
      "needs_background": "light"
     },
     "output_type": "display_data"
    }
   ],
   "source": [
    "sns.heatmap(pd.isnull(RegistrationData),yticklabels=False,cbar=False)\n",
    "plt.title(\"Missing Values\")"
   ]
  },
  {
   "cell_type": "markdown",
   "metadata": {},
   "source": [
    "The plot above shows evidently that there exists quite a number of missing values.Lets see how amny they are!"
   ]
  },
  {
   "cell_type": "code",
   "execution_count": 9,
   "metadata": {},
   "outputs": [
    {
     "name": "stdout",
     "output_type": "stream",
     "text": [
      "Patient Code        0\n",
      "Date of Birth    4919\n",
      "dtype: int64\n",
      "==============================\n",
      "5.83% of dates of birth are missing\n"
     ]
    }
   ],
   "source": [
    "print(RegistrationData.isnull().sum(axis=0))\n",
    "print(\"==========\"*3)\n",
    "prop= round(RegistrationData.isnull().sum(axis=0)[1]/len(RegistrationData['Patient Code'])*100,2)\n",
    "print(\"{}% of dates of birth are missing\".format(prop))"
   ]
  },
  {
   "cell_type": "markdown",
   "metadata": {},
   "source": [
    "The code above shows that there are 4919 missing dates of birth which make around 6% of all the data.Also we saw some patient codes repeated so only unique values will be used for the analysis.\n",
    " <a id=\"6\"></a> <br>\n",
    "## Data Preprocessing.\n",
    "\n",
    "In the above section we looked at what the data is made up of.In order to make correct analysis on data the data should obey the principles of a tidy data:\n",
    " <a id=\"61\"></a> <br>\n",
    " \n",
    "#### Properties of tidy data:\n",
    "\n",
    "1. Every column is a variable.\n",
    "\n",
    "1. Every row is an observation.\n",
    "\n",
    "1. Every cell is a data point.\n",
    " <a id=\"62\"></a> <br>\n",
    "#### Registration data - Patient codes\n",
    "\n",
    "Since patient codes column is a very crucial variable in this data set I will spend some time inspecting at it.\n",
    "\n",
    "Some of the things I will do to  this column include:\n",
    "\n",
    "1. Strip all the blank spaces in the patient code values.\n",
    "\n",
    "1. Eliminate the last four digits of the patient code since probably they stand for the year.Also ,some of the codes lack the last four digits for the year.(To illustrate this i will first inspect the longest patient code and the shortest patient code.)\n",
    "\n",
    "[go to top](#top)"
   ]
  },
  {
   "cell_type": "code",
   "execution_count": 10,
   "metadata": {},
   "outputs": [
    {
     "name": "stdout",
     "output_type": "stream",
     "text": [
      "We can clearly see that the shortest patient code has 8 characters and the longest code has 12 characters\n"
     ]
    }
   ],
   "source": [
    "stripedcodes = []\n",
    "for code in RegistrationData['Patient Code']:\n",
    "    strcode = len(code.strip())\n",
    "    stripedcodes.append(strcode)\n",
    "shortestcode = min(stripedcodes)\n",
    "longestcode = max(stripedcodes)\n",
    "print(\"We can clearly see that the shortest patient code has {} characters and the longest code has {} characters\".format(shortestcode,longestcode))"
   ]
  },
  {
   "cell_type": "markdown",
   "metadata": {},
   "source": [
    "Everything is self explanatory from the above output and based on that i will derive the new corrected patient codes.Below i create a function to strip the white spaces in the patient codes codes and extract the first 8 characters then return the corrected patient codes. "
   ]
  },
  {
   "cell_type": "code",
   "execution_count": 11,
   "metadata": {},
   "outputs": [],
   "source": [
    "def correctCode(cols):\n",
    "    return cols.strip()[:8]#"
   ]
  },
  {
   "cell_type": "code",
   "execution_count": 12,
   "metadata": {},
   "outputs": [],
   "source": [
    "RegistrationData['Patient Code'] = RegistrationData['Patient Code'].apply(correctCode)"
   ]
  },
  {
   "cell_type": "markdown",
   "metadata": {},
   "source": [
    "<a id=\"63\"></a> <br>\n",
    "#### Registration data-Missing Dates of Birth.\n",
    "\n",
    "Now its time to eliminate the rows with missing dates of birth because its obvious that the missing dates of births cannot be reconstructed unless for patients entered more than once,then drop duplicates."
   ]
  },
  {
   "cell_type": "code",
   "execution_count": 13,
   "metadata": {},
   "outputs": [],
   "source": [
    "RegistrationData=RegistrationData.dropna().drop_duplicates()"
   ]
  },
  {
   "cell_type": "markdown",
   "metadata": {},
   "source": [
    "And now lets look check if there are still missing values.\n",
    "\n",
    "\n",
    "[go to top](#top)"
   ]
  },
  {
   "cell_type": "code",
   "execution_count": 14,
   "metadata": {},
   "outputs": [
    {
     "data": {
      "text/plain": [
       "Text(0.5, 1.0, 'Missing Values')"
      ]
     },
     "execution_count": 14,
     "metadata": {},
     "output_type": "execute_result"
    },
    {
     "data": {
      "image/png": "[encoded data removed]",
      "text/plain": [
       "<Figure size 432x288 with 1 Axes>"
      ]
     },
     "metadata": {
      "needs_background": "light"
     },
     "output_type": "display_data"
    }
   ],
   "source": [
    "sns.heatmap(pd.isnull(RegistrationData),yticklabels=False,cbar=False,cmap=\"coolwarm\")\n",
    "plt.title(\"Missing Values\")"
   ]
  },
  {
   "cell_type": "markdown",
   "metadata": {},
   "source": [
    "Good!There are no missing values ,we are good to go."
   ]
  },
  {
   "cell_type": "markdown",
   "metadata": {},
   "source": [
    "<a id=\"64\"></a> <br>\n",
    "#### Patient Paid Visit Data-Patient codes\n",
    "\n",
    "The patient codes will be treated the same way as the registration data."
   ]
  },
  {
   "cell_type": "code",
   "execution_count": 15,
   "metadata": {},
   "outputs": [],
   "source": [
    "PatientPaidVisit['Patient Code'] = PatientPaidVisit['Patient Code'].apply(correctCode)"
   ]
  },
  {
   "cell_type": "markdown",
   "metadata": {},
   "source": [
    "<a id=\"65\"></a> <br>\n",
    "#### Patient Paid Visit Data-Visit Date.\n",
    "\n",
    "We saw earlier that patient paid visit data date column had irregularites.The following actions will be applied to this column.\n",
    "\n",
    "1. Convert the string dates to datetime datatypes.\n",
    "\n",
    "1. Correct formart the wrongly enterd dates.\n",
    "\n",
    "The function below will be used to convert the dates into datetime object.\n",
    "\n",
    "[go to top](#top)"
   ]
  },
  {
   "cell_type": "code",
   "execution_count": 16,
   "metadata": {},
   "outputs": [],
   "source": [
    "def dateCorrector(cols):\n",
    "    if type(cols) == datetime:\n",
    "        return cols\n",
    "    else:\n",
    "        return  datetime.strptime(cols,'%d/%m/%Y')"
   ]
  },
  {
   "cell_type": "code",
   "execution_count": 17,
   "metadata": {},
   "outputs": [],
   "source": [
    "PatientPaidVisit['Visit date'] = PatientPaidVisit['Visit date'].apply(dateCorrector)"
   ]
  },
  {
   "cell_type": "markdown",
   "metadata": {},
   "source": [
    "Now lets look at this column in detail,you will see that the months are past **September** which was categoricaly stated in the busines value section by the job poster.This means that at some point the data clerks were starting with the months and then the dates.Infact in some instances the months are ambigouous."
   ]
  },
  {
   "cell_type": "code",
   "execution_count": 18,
   "metadata": {},
   "outputs": [
    {
     "data": {
      "text/plain": [
       "array([ 1,  2,  3,  4,  5,  6,  7,  8,  9, 10, 11, 12])"
      ]
     },
     "execution_count": 18,
     "metadata": {},
     "output_type": "execute_result"
    }
   ],
   "source": [
    "PatientPaidVisit['Visit date'].dt.month.unique()"
   ]
  },
  {
   "cell_type": "markdown",
   "metadata": {},
   "source": [
    "The output above confirms the idea that the months are way past september,lets correct this.\n",
    "\n",
    "I am going to create a cunction below that will be used to correct this mistake incase month is greater than september."
   ]
  },
  {
   "cell_type": "code",
   "execution_count": 19,
   "metadata": {},
   "outputs": [
    {
     "data": {
      "text/plain": [
       "array([1, 2, 3, 4, 5, 6, 7, 8, 9])"
      ]
     },
     "execution_count": 19,
     "metadata": {},
     "output_type": "execute_result"
    }
   ],
   "source": [
    "def dateFormart(cols):\n",
    "        if cols.month >9:\n",
    "            return datetime.strptime(datetime.strftime(cols,'%Y-%m-%d'), '%Y-%d-%m' ) #checks if month is greater than 9(september)\n",
    "        else:\n",
    "            return cols\n",
    "        \n",
    "PatientPaidVisit['Visit date'] = PatientPaidVisit['Visit date'].apply(dateFormart)#new correct dates\n",
    "PatientPaidVisit['Visit date'].dt.month.unique()"
   ]
  },
  {
   "cell_type": "markdown",
   "metadata": {},
   "source": [
    "The code above simply checks if month is more than septembe and land swaps the day and month position.The output shows the result.At thispoint its important to also create a column for month that i will use in the final pivot.\n",
    "\n",
    "\n",
    "[go to top](#top)"
   ]
  },
  {
   "cell_type": "code",
   "execution_count": 20,
   "metadata": {},
   "outputs": [
    {
     "data": {
      "text/plain": [
       "array(['January', 'February', 'March', 'April', 'May', 'June', 'July',\n",
       "       'August', 'September'], dtype=object)"
      ]
     },
     "execution_count": 20,
     "metadata": {},
     "output_type": "execute_result"
    }
   ],
   "source": [
    "def month_var(cols):\n",
    "    return cols.strftime(\"%B\")\n",
    "PatientPaidVisit['Visit month'] = PatientPaidVisit['Visit date'].apply(month_var)\n",
    "PatientPaidVisit['Visit month'].unique() #just to show the result of the function."
   ]
  },
  {
   "cell_type": "markdown",
   "metadata": {},
   "source": [
    "#### Paid Visit Data-Dropping unwanted variables\n",
    "\n",
    "Its evident that some variables will not be used in creating the final pivot table so i will drop them."
   ]
  },
  {
   "cell_type": "code",
   "execution_count": 21,
   "metadata": {},
   "outputs": [],
   "source": [
    "PatientPaidVisit.drop(['Payment Type','Patient Name','Phone no.','Total invoice','Patient Address'],axis = 1,inplace=True)"
   ]
  },
  {
   "cell_type": "markdown",
   "metadata": {},
   "source": [
    "<a id=\"7\"></a> <br>\n",
    "## Merging Data.\n",
    "\n",
    "In order to stay on course with our hypothetical situation,i will merge the data based on the patient code column."
   ]
  },
  {
   "cell_type": "code",
   "execution_count": 22,
   "metadata": {},
   "outputs": [],
   "source": [
    "mergeData = pd.merge(PatientPaidVisit,RegistrationData,on = \"Patient Code\",how = \"inner\")"
   ]
  },
  {
   "cell_type": "markdown",
   "metadata": {},
   "source": [
    "<a id=\"71\"></a> <br>\n",
    "### Merged data age calculation\n",
    "\n",
    "The project needed infants five years and below in diagnosed with typhoid so i will create an age column with the code below.\n",
    "\n",
    "\n",
    "[go to top](#top)"
   ]
  },
  {
   "cell_type": "code",
   "execution_count": 23,
   "metadata": {},
   "outputs": [],
   "source": [
    "mergeData['age'] = round((mergeData['Visit date']-mergeData['Date of Birth'])/np.timedelta64(1,'Y'))"
   ]
  },
  {
   "cell_type": "markdown",
   "metadata": {},
   "source": [
    "<a id=\"72\"></a> <br>\n",
    "### Merged data - filltering out rows with nul vaues in Diagnosis column.\n",
    "\n",
    "Its important to note that the project is intrested in diagnosis so the records with no diagnosis are of ess important to us so they will be filtered out."
   ]
  },
  {
   "cell_type": "code",
   "execution_count": 24,
   "metadata": {},
   "outputs": [],
   "source": [
    "mdfilt = mergeData[mergeData['Diagnosis'].notnull()]"
   ]
  },
  {
   "cell_type": "markdown",
   "metadata": {},
   "source": [
    "<a id=\"73\"></a> <br>\n",
    "### Merged Data - filtering out typhoid and age.\n",
    "\n",
    "To get to the core of the requirements ,I will filter the data v=based on the age and diagnosis column.\n",
    "\n",
    "It should ne noted that some diagnostics were writen wrongly eg \"tyfoid\",\"typhiod\" instead of \"typhoid\".I will therefore start by replacing the wrongly spelt typhoid names.\n",
    "[go to top](#top)"
   ]
  },
  {
   "cell_type": "code",
   "execution_count": 25,
   "metadata": {},
   "outputs": [
    {
     "name": "stderr",
     "output_type": "stream",
     "text": [
      "/Users/admin/anaconda3/lib/python3.6/site-packages/ipykernel_launcher.py:3: SettingWithCopyWarning: \n",
      "A value is trying to be set on a copy of a slice from a DataFrame.\n",
      "Try using .loc[row_indexer,col_indexer] = value instead\n",
      "\n",
      "See the caveats in the documentation: http://pandas.pydata.org/pandas-docs/stable/indexing.html#indexing-view-versus-copy\n",
      "  This is separate from the ipykernel package so we can avoid doing imports until\n"
     ]
    }
   ],
   "source": [
    "wrongspell = ['typhiod','tyfoid']\n",
    "for word in wrongspell:\n",
    "    mdfilt['Diagnosis'] = mdfilt.Diagnosis.str.replace(word,'typhoid',regex = False)"
   ]
  },
  {
   "cell_type": "code",
   "execution_count": 26,
   "metadata": {},
   "outputs": [],
   "source": [
    "cond1 = mdfilt['Diagnosis'].str.contains('typhoid',na =False)\n",
    "cond2 = mdfilt['age']<=5\n",
    "finaldata = mdfilt[cond1 & cond2]"
   ]
  },
  {
   "cell_type": "markdown",
   "metadata": {},
   "source": [
    "Final quick view of the last 5 values of the data."
   ]
  },
  {
   "cell_type": "markdown",
   "metadata": {},
   "source": [
    "<a id=\"8\"></a> <br>\n",
    "## THE PIVOT TABLE\n",
    "\n",
    "Finally at the end of the project I will create a pivot table to populate the values."
   ]
  },
  {
   "cell_type": "code",
   "execution_count": 27,
   "metadata": {},
   "outputs": [
    {
     "data": {
      "text/html": [
       "<div>\n",
       "<style scoped>\n",
       "    .dataframe tbody tr th:only-of-type {\n",
       "        vertical-align: middle;\n",
       "    }\n",
       "\n",
       "    .dataframe tbody tr th {\n",
       "        vertical-align: top;\n",
       "    }\n",
       "\n",
       "    .dataframe thead th {\n",
       "        text-align: right;\n",
       "    }\n",
       "</style>\n",
       "<table border=\"1\" class=\"dataframe\">\n",
       "  <thead>\n",
       "    <tr style=\"text-align: right;\">\n",
       "      <th>Visit month</th>\n",
       "      <th>April</th>\n",
       "      <th>August</th>\n",
       "      <th>February</th>\n",
       "      <th>January</th>\n",
       "      <th>July</th>\n",
       "      <th>June</th>\n",
       "      <th>March</th>\n",
       "      <th>May</th>\n",
       "      <th>September</th>\n",
       "      <th>Average</th>\n",
       "    </tr>\n",
       "    <tr>\n",
       "      <th>Visit location</th>\n",
       "      <th></th>\n",
       "      <th></th>\n",
       "      <th></th>\n",
       "      <th></th>\n",
       "      <th></th>\n",
       "      <th></th>\n",
       "      <th></th>\n",
       "      <th></th>\n",
       "      <th></th>\n",
       "      <th></th>\n",
       "    </tr>\n",
       "  </thead>\n",
       "  <tbody>\n",
       "    <tr>\n",
       "      <th>Embakasi</th>\n",
       "      <td>43.0</td>\n",
       "      <td>33.0</td>\n",
       "      <td>32.0</td>\n",
       "      <td>31.0</td>\n",
       "      <td>43.0</td>\n",
       "      <td>23.0</td>\n",
       "      <td>23.0</td>\n",
       "      <td>11.0</td>\n",
       "      <td>4.0</td>\n",
       "      <td>27.0</td>\n",
       "    </tr>\n",
       "    <tr>\n",
       "      <th>Githurai 45</th>\n",
       "      <td>19.0</td>\n",
       "      <td>25.0</td>\n",
       "      <td>28.0</td>\n",
       "      <td>20.0</td>\n",
       "      <td>32.0</td>\n",
       "      <td>28.0</td>\n",
       "      <td>13.0</td>\n",
       "      <td>10.0</td>\n",
       "      <td>3.0</td>\n",
       "      <td>20.0</td>\n",
       "    </tr>\n",
       "    <tr>\n",
       "      <th>Huruma</th>\n",
       "      <td>9.0</td>\n",
       "      <td>5.0</td>\n",
       "      <td>3.0</td>\n",
       "      <td>2.0</td>\n",
       "      <td>8.0</td>\n",
       "      <td>8.0</td>\n",
       "      <td>2.0</td>\n",
       "      <td>3.0</td>\n",
       "      <td>1.0</td>\n",
       "      <td>5.0</td>\n",
       "    </tr>\n",
       "    <tr>\n",
       "      <th>Kahawa West</th>\n",
       "      <td>22.0</td>\n",
       "      <td>31.0</td>\n",
       "      <td>32.0</td>\n",
       "      <td>35.0</td>\n",
       "      <td>46.0</td>\n",
       "      <td>35.0</td>\n",
       "      <td>26.0</td>\n",
       "      <td>9.0</td>\n",
       "      <td>6.0</td>\n",
       "      <td>27.0</td>\n",
       "    </tr>\n",
       "    <tr>\n",
       "      <th>Kayole</th>\n",
       "      <td>1.0</td>\n",
       "      <td>4.0</td>\n",
       "      <td>NaN</td>\n",
       "      <td>1.0</td>\n",
       "      <td>2.0</td>\n",
       "      <td>2.0</td>\n",
       "      <td>NaN</td>\n",
       "      <td>NaN</td>\n",
       "      <td>NaN</td>\n",
       "      <td>1.0</td>\n",
       "    </tr>\n",
       "    <tr>\n",
       "      <th>Pipeline</th>\n",
       "      <td>NaN</td>\n",
       "      <td>2.0</td>\n",
       "      <td>NaN</td>\n",
       "      <td>NaN</td>\n",
       "      <td>1.0</td>\n",
       "      <td>NaN</td>\n",
       "      <td>NaN</td>\n",
       "      <td>NaN</td>\n",
       "      <td>NaN</td>\n",
       "      <td>0.0</td>\n",
       "    </tr>\n",
       "    <tr>\n",
       "      <th>Umoja</th>\n",
       "      <td>40.0</td>\n",
       "      <td>41.0</td>\n",
       "      <td>28.0</td>\n",
       "      <td>43.0</td>\n",
       "      <td>52.0</td>\n",
       "      <td>40.0</td>\n",
       "      <td>37.0</td>\n",
       "      <td>11.0</td>\n",
       "      <td>11.0</td>\n",
       "      <td>34.0</td>\n",
       "    </tr>\n",
       "    <tr>\n",
       "      <th>Zimmerman</th>\n",
       "      <td>17.0</td>\n",
       "      <td>21.0</td>\n",
       "      <td>21.0</td>\n",
       "      <td>20.0</td>\n",
       "      <td>36.0</td>\n",
       "      <td>33.0</td>\n",
       "      <td>17.0</td>\n",
       "      <td>8.0</td>\n",
       "      <td>7.0</td>\n",
       "      <td>20.0</td>\n",
       "    </tr>\n",
       "    <tr>\n",
       "      <th>Average</th>\n",
       "      <td>151.0</td>\n",
       "      <td>162.0</td>\n",
       "      <td>144.0</td>\n",
       "      <td>152.0</td>\n",
       "      <td>220.0</td>\n",
       "      <td>169.0</td>\n",
       "      <td>118.0</td>\n",
       "      <td>52.0</td>\n",
       "      <td>32.0</td>\n",
       "      <td>133.0</td>\n",
       "    </tr>\n",
       "  </tbody>\n",
       "</table>\n",
       "</div>"
      ],
      "text/plain": [
       "Visit month     April  August  February  January   July   June  March   May  \\\n",
       "Visit location                                                                \n",
       "Embakasi         43.0    33.0      32.0     31.0   43.0   23.0   23.0  11.0   \n",
       "Githurai 45      19.0    25.0      28.0     20.0   32.0   28.0   13.0  10.0   \n",
       "Huruma            9.0     5.0       3.0      2.0    8.0    8.0    2.0   3.0   \n",
       "Kahawa West      22.0    31.0      32.0     35.0   46.0   35.0   26.0   9.0   \n",
       "Kayole            1.0     4.0       NaN      1.0    2.0    2.0    NaN   NaN   \n",
       "Pipeline          NaN     2.0       NaN      NaN    1.0    NaN    NaN   NaN   \n",
       "Umoja            40.0    41.0      28.0     43.0   52.0   40.0   37.0  11.0   \n",
       "Zimmerman        17.0    21.0      21.0     20.0   36.0   33.0   17.0   8.0   \n",
       "Average         151.0   162.0     144.0    152.0  220.0  169.0  118.0  52.0   \n",
       "\n",
       "Visit month     September  Average  \n",
       "Visit location                      \n",
       "Embakasi              4.0     27.0  \n",
       "Githurai 45           3.0     20.0  \n",
       "Huruma                1.0      5.0  \n",
       "Kahawa West           6.0     27.0  \n",
       "Kayole                NaN      1.0  \n",
       "Pipeline              NaN      0.0  \n",
       "Umoja                11.0     34.0  \n",
       "Zimmerman             7.0     20.0  \n",
       "Average              32.0    133.0  "
      ]
     },
     "execution_count": 27,
     "metadata": {},
     "output_type": "execute_result"
    }
   ],
   "source": [
    "pivot_table = finaldata.pivot_table(values='Diagnosis',index=\"Visit location\",columns=\"Visit month\",margins_name='Average',aggfunc='count',margins=np.average,)\n",
    "pivot_table['Average'] = round(pivot_table['Average']/9)\n",
    "pivot_table"
   ]
  },
  {
   "cell_type": "markdown",
   "metadata": {},
   "source": [
    "<a id=\"81\"></a> <br>\n",
    "**Which can visualised below this way**\n",
    "\n",
    "\n",
    "[go to top](#top)"
   ]
  },
  {
   "cell_type": "code",
   "execution_count": 28,
   "metadata": {},
   "outputs": [
    {
     "data": {
      "text/plain": [
       "<matplotlib.axes._subplots.AxesSubplot at 0x1a249e9390>"
      ]
     },
     "execution_count": 28,
     "metadata": {},
     "output_type": "execute_result"
    },
    {
     "data": {
      "image/png": "[encoded data removed]",
      "text/plain": [
       "<Figure size 864x432 with 1 Axes>"
      ]
     },
     "metadata": {
      "needs_background": "light"
     },
     "output_type": "display_data"
    }
   ],
   "source": [
    "plt.figure(figsize=(12,6))\n",
    "sns.heatmap(pivot_table.iloc[:-1],annot=True,cmap='gist_stern',lw = 3,cbar = False)"
   ]
  },
  {
   "cell_type": "markdown",
   "metadata": {},
   "source": [
    "<a id=\"82\"></a> <br>\n",
    "## Answering the question.\n",
    "\n",
    "Since i am required to indicate if a hospital is elligible for the covermont support,i will create a python function to assist me tackle this"
   ]
  },
  {
   "cell_type": "code",
   "execution_count": 29,
   "metadata": {},
   "outputs": [],
   "source": [
    "def eligibility(cols):\n",
    "    if cols >15:\n",
    "        return 'eligible'\n",
    "    else:\n",
    "        return 'not  eligible'\n"
   ]
  },
  {
   "cell_type": "code",
   "execution_count": 30,
   "metadata": {},
   "outputs": [],
   "source": [
    "pivot_table['Eligibility']=pivot_table['Average'].apply(eligibility)"
   ]
  },
  {
   "cell_type": "code",
   "execution_count": 31,
   "metadata": {},
   "outputs": [
    {
     "data": {
      "text/html": [
       "<div>\n",
       "<style scoped>\n",
       "    .dataframe tbody tr th:only-of-type {\n",
       "        vertical-align: middle;\n",
       "    }\n",
       "\n",
       "    .dataframe tbody tr th {\n",
       "        vertical-align: top;\n",
       "    }\n",
       "\n",
       "    .dataframe thead th {\n",
       "        text-align: right;\n",
       "    }\n",
       "</style>\n",
       "<table border=\"1\" class=\"dataframe\">\n",
       "  <thead>\n",
       "    <tr style=\"text-align: right;\">\n",
       "      <th>Visit month</th>\n",
       "      <th>January</th>\n",
       "      <th>February</th>\n",
       "      <th>March</th>\n",
       "      <th>April</th>\n",
       "      <th>May</th>\n",
       "      <th>June</th>\n",
       "      <th>July</th>\n",
       "      <th>August</th>\n",
       "      <th>September</th>\n",
       "      <th>Average</th>\n",
       "      <th>Eligibility</th>\n",
       "    </tr>\n",
       "    <tr>\n",
       "      <th>Visit location</th>\n",
       "      <th></th>\n",
       "      <th></th>\n",
       "      <th></th>\n",
       "      <th></th>\n",
       "      <th></th>\n",
       "      <th></th>\n",
       "      <th></th>\n",
       "      <th></th>\n",
       "      <th></th>\n",
       "      <th></th>\n",
       "      <th></th>\n",
       "    </tr>\n",
       "  </thead>\n",
       "  <tbody>\n",
       "    <tr>\n",
       "      <th>Embakasi</th>\n",
       "      <td>31.0</td>\n",
       "      <td>32.0</td>\n",
       "      <td>23.0</td>\n",
       "      <td>43.0</td>\n",
       "      <td>11.0</td>\n",
       "      <td>23.0</td>\n",
       "      <td>43.0</td>\n",
       "      <td>33.0</td>\n",
       "      <td>4.0</td>\n",
       "      <td>27.0</td>\n",
       "      <td>eligible</td>\n",
       "    </tr>\n",
       "    <tr>\n",
       "      <th>Githurai 45</th>\n",
       "      <td>20.0</td>\n",
       "      <td>28.0</td>\n",
       "      <td>13.0</td>\n",
       "      <td>19.0</td>\n",
       "      <td>10.0</td>\n",
       "      <td>28.0</td>\n",
       "      <td>32.0</td>\n",
       "      <td>25.0</td>\n",
       "      <td>3.0</td>\n",
       "      <td>20.0</td>\n",
       "      <td>eligible</td>\n",
       "    </tr>\n",
       "    <tr>\n",
       "      <th>Huruma</th>\n",
       "      <td>2.0</td>\n",
       "      <td>3.0</td>\n",
       "      <td>2.0</td>\n",
       "      <td>9.0</td>\n",
       "      <td>3.0</td>\n",
       "      <td>8.0</td>\n",
       "      <td>8.0</td>\n",
       "      <td>5.0</td>\n",
       "      <td>1.0</td>\n",
       "      <td>5.0</td>\n",
       "      <td>not  eligible</td>\n",
       "    </tr>\n",
       "    <tr>\n",
       "      <th>Kahawa West</th>\n",
       "      <td>35.0</td>\n",
       "      <td>32.0</td>\n",
       "      <td>26.0</td>\n",
       "      <td>22.0</td>\n",
       "      <td>9.0</td>\n",
       "      <td>35.0</td>\n",
       "      <td>46.0</td>\n",
       "      <td>31.0</td>\n",
       "      <td>6.0</td>\n",
       "      <td>27.0</td>\n",
       "      <td>eligible</td>\n",
       "    </tr>\n",
       "    <tr>\n",
       "      <th>Kayole</th>\n",
       "      <td>1.0</td>\n",
       "      <td>NaN</td>\n",
       "      <td>NaN</td>\n",
       "      <td>1.0</td>\n",
       "      <td>NaN</td>\n",
       "      <td>2.0</td>\n",
       "      <td>2.0</td>\n",
       "      <td>4.0</td>\n",
       "      <td>NaN</td>\n",
       "      <td>1.0</td>\n",
       "      <td>not  eligible</td>\n",
       "    </tr>\n",
       "    <tr>\n",
       "      <th>Pipeline</th>\n",
       "      <td>NaN</td>\n",
       "      <td>NaN</td>\n",
       "      <td>NaN</td>\n",
       "      <td>NaN</td>\n",
       "      <td>NaN</td>\n",
       "      <td>NaN</td>\n",
       "      <td>1.0</td>\n",
       "      <td>2.0</td>\n",
       "      <td>NaN</td>\n",
       "      <td>0.0</td>\n",
       "      <td>not  eligible</td>\n",
       "    </tr>\n",
       "    <tr>\n",
       "      <th>Umoja</th>\n",
       "      <td>43.0</td>\n",
       "      <td>28.0</td>\n",
       "      <td>37.0</td>\n",
       "      <td>40.0</td>\n",
       "      <td>11.0</td>\n",
       "      <td>40.0</td>\n",
       "      <td>52.0</td>\n",
       "      <td>41.0</td>\n",
       "      <td>11.0</td>\n",
       "      <td>34.0</td>\n",
       "      <td>eligible</td>\n",
       "    </tr>\n",
       "    <tr>\n",
       "      <th>Zimmerman</th>\n",
       "      <td>20.0</td>\n",
       "      <td>21.0</td>\n",
       "      <td>17.0</td>\n",
       "      <td>17.0</td>\n",
       "      <td>8.0</td>\n",
       "      <td>33.0</td>\n",
       "      <td>36.0</td>\n",
       "      <td>21.0</td>\n",
       "      <td>7.0</td>\n",
       "      <td>20.0</td>\n",
       "      <td>eligible</td>\n",
       "    </tr>\n",
       "  </tbody>\n",
       "</table>\n",
       "</div>"
      ],
      "text/plain": [
       "Visit month     January  February  March  April   May  June  July  August  \\\n",
       "Visit location                                                              \n",
       "Embakasi           31.0      32.0   23.0   43.0  11.0  23.0  43.0    33.0   \n",
       "Githurai 45        20.0      28.0   13.0   19.0  10.0  28.0  32.0    25.0   \n",
       "Huruma              2.0       3.0    2.0    9.0   3.0   8.0   8.0     5.0   \n",
       "Kahawa West        35.0      32.0   26.0   22.0   9.0  35.0  46.0    31.0   \n",
       "Kayole              1.0       NaN    NaN    1.0   NaN   2.0   2.0     4.0   \n",
       "Pipeline            NaN       NaN    NaN    NaN   NaN   NaN   1.0     2.0   \n",
       "Umoja              43.0      28.0   37.0   40.0  11.0  40.0  52.0    41.0   \n",
       "Zimmerman          20.0      21.0   17.0   17.0   8.0  33.0  36.0    21.0   \n",
       "\n",
       "Visit month     September  Average    Eligibility  \n",
       "Visit location                                     \n",
       "Embakasi              4.0     27.0       eligible  \n",
       "Githurai 45           3.0     20.0       eligible  \n",
       "Huruma                1.0      5.0  not  eligible  \n",
       "Kahawa West           6.0     27.0       eligible  \n",
       "Kayole                NaN      1.0  not  eligible  \n",
       "Pipeline              NaN      0.0  not  eligible  \n",
       "Umoja                11.0     34.0       eligible  \n",
       "Zimmerman             7.0     20.0       eligible  "
      ]
     },
     "execution_count": 31,
     "metadata": {},
     "output_type": "execute_result"
    }
   ],
   "source": [
    "pivot_table.iloc[:-1][['January', 'February', 'March', 'April', 'May', 'June', 'July','August', 'September','Average','Eligibility']]"
   ]
  },
  {
   "cell_type": "markdown",
   "metadata": {},
   "source": [
    "\n",
    "[go to top](#top)\n",
    "<a id=\"83\"></a> <br>\n",
    "## Conclusion.\n",
    "\n",
    "From the final output above ,its clear that **embakasi,githurai 45,kahawa west,umoja and zimmerman** health centers are eligible for the govenment programe.\n",
    "\n",
    "This work was originaly done by me(George) for the submission of a **Business inteligence analyst position** application at Penda Health,the best organization spearheading quality health to kenyans."
   ]
  },
  {
   "cell_type": "markdown",
   "metadata": {},
   "source": [
    "\n",
    "[<div style=\"text-align: center;font-size:40px;text-decoration:underline;\">THE END</div>](#top)"
   ]
  }
 ],
 "metadata": {
  "kernelspec": {
   "display_name": "Python 3",
   "language": "python",
   "name": "python3"
  },
  "language_info": {
   "codemirror_mode": {
    "name": "ipython",
    "version": 3
   },
   "file_extension": ".py",
   "mimetype": "text/x-python",
   "name": "python",
   "nbconvert_exporter": "python",
   "pygments_lexer": "ipython3",
   "version": "3.6.7"
  }
 },
 "nbformat": 4,
 "nbformat_minor": 2
}
